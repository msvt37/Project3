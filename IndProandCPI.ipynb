{
  "nbformat": 4,
  "nbformat_minor": 0,
  "metadata": {
    "colab": {
      "name": "IndProandCPI.ipynb",
      "provenance": []
    },
    "kernelspec": {
      "name": "python3",
      "display_name": "Python 3"
    },
    "language_info": {
      "name": "python"
    }
  },
  "cells": [
    {
      "cell_type": "code",
      "metadata": {
        "id": "kwvqGWGn0BEE"
      },
      "source": [
        "import pandas as pd\n",
        "import numpy as np\n",
        "import datetime as dt\n",
        "import matplotlib.pyplot as plt\n",
        "\n",
        "import plotly.express as px\n",
        "import plotly.graph_objects as go"
      ],
      "execution_count": 3,
      "outputs": []
    },
    {
      "cell_type": "code",
      "metadata": {
        "id": "fSH0pqKT0HXm"
      },
      "source": [
        "!pip install yfinance\n",
        "!pip install quandl"
      ],
      "execution_count": null,
      "outputs": []
    },
    {
      "cell_type": "code",
      "metadata": {
        "id": "WabXWQju0K9r"
      },
      "source": [
        "import yfinance as yf\n",
        "import quandl"
      ],
      "execution_count": 4,
      "outputs": []
    },
    {
      "cell_type": "code",
      "metadata": {
        "id": "3mJlyj2X1BdE"
      },
      "source": [
        "#symbols = ['HG=F', 'PL=F','SI=F', 'GC=F', 'LBS=F', 'CL=F']\n",
        "#start = '2011-01-01'\n",
        "#end = '2021-07-10'"
      ],
      "execution_count": 5,
      "outputs": []
    },
    {
      "cell_type": "code",
      "metadata": {
        "id": "C46P8OaE1IFx"
      },
      "source": [
        "#df = pd.DataFrame()\n",
        "#for s in symbols:\n",
        " #   df[s] = yf.download(s,start,end)['Adj Close']"
      ],
      "execution_count": null,
      "outputs": []
    },
    {
      "cell_type": "code",
      "metadata": {
        "id": "a58lv01K_Bcl"
      },
      "source": [
        "quandl.ApiConfig.api_key = \"dFWX9cPgKNkz_shZZ2x3\""
      ],
      "execution_count": 6,
      "outputs": []
    },
    {
      "cell_type": "code",
      "metadata": {
        "colab": {
          "base_uri": "https://localhost:8080/",
          "height": 235
        },
        "id": "ILKJpd4f_Sb6",
        "outputId": "81e76230-375e-4916-8c90-8b5cc8aee373"
      },
      "source": [
        "# Industrial Production\n",
        "indpro = quandl.get(\"FRED/INDPRO\", start_date='2000-07-01', end_date = '2021-07-01', collapse = 'monthly')\n",
        "indpro.rename(columns={ \"Value\" : \"INDPRO\"}, inplace = True)\n",
        "indpro.tail()"
      ],
      "execution_count": 7,
      "outputs": [
        {
          "output_type": "execute_result",
          "data": {
            "text/html": [
              "<div>\n",
              "<style scoped>\n",
              "    .dataframe tbody tr th:only-of-type {\n",
              "        vertical-align: middle;\n",
              "    }\n",
              "\n",
              "    .dataframe tbody tr th {\n",
              "        vertical-align: top;\n",
              "    }\n",
              "\n",
              "    .dataframe thead th {\n",
              "        text-align: right;\n",
              "    }\n",
              "</style>\n",
              "<table border=\"1\" class=\"dataframe\">\n",
              "  <thead>\n",
              "    <tr style=\"text-align: right;\">\n",
              "      <th></th>\n",
              "      <th>INDPRO</th>\n",
              "    </tr>\n",
              "    <tr>\n",
              "      <th>Date</th>\n",
              "      <th></th>\n",
              "    </tr>\n",
              "  </thead>\n",
              "  <tbody>\n",
              "    <tr>\n",
              "      <th>2021-02-28</th>\n",
              "      <td>96.3720</td>\n",
              "    </tr>\n",
              "    <tr>\n",
              "      <th>2021-03-31</th>\n",
              "      <td>98.9400</td>\n",
              "    </tr>\n",
              "    <tr>\n",
              "      <th>2021-04-30</th>\n",
              "      <td>98.9660</td>\n",
              "    </tr>\n",
              "    <tr>\n",
              "      <th>2021-05-31</th>\n",
              "      <td>99.6536</td>\n",
              "    </tr>\n",
              "    <tr>\n",
              "      <th>2021-06-30</th>\n",
              "      <td>100.0951</td>\n",
              "    </tr>\n",
              "  </tbody>\n",
              "</table>\n",
              "</div>"
            ],
            "text/plain": [
              "              INDPRO\n",
              "Date                \n",
              "2021-02-28   96.3720\n",
              "2021-03-31   98.9400\n",
              "2021-04-30   98.9660\n",
              "2021-05-31   99.6536\n",
              "2021-06-30  100.0951"
            ]
          },
          "metadata": {
            "tags": []
          },
          "execution_count": 7
        }
      ]
    },
    {
      "cell_type": "code",
      "metadata": {
        "colab": {
          "base_uri": "https://localhost:8080/",
          "height": 235
        },
        "id": "j1-vOwkx_YNU",
        "outputId": "4447cfc3-eca9-40de-cb29-ed6866445dad"
      },
      "source": [
        "# CPI for All Urban Consumers\n",
        "CPI = quandl.get(\"FRED/CPIAUCSL\", start_date='2000-07-01', end_date = '2021-07-01', collapse = 'monthly')\n",
        "CPI.rename(columns={ \"Value\" : \"CPI_All\"}, inplace = True)\n",
        "CPI.tail()"
      ],
      "execution_count": 8,
      "outputs": [
        {
          "output_type": "execute_result",
          "data": {
            "text/html": [
              "<div>\n",
              "<style scoped>\n",
              "    .dataframe tbody tr th:only-of-type {\n",
              "        vertical-align: middle;\n",
              "    }\n",
              "\n",
              "    .dataframe tbody tr th {\n",
              "        vertical-align: top;\n",
              "    }\n",
              "\n",
              "    .dataframe thead th {\n",
              "        text-align: right;\n",
              "    }\n",
              "</style>\n",
              "<table border=\"1\" class=\"dataframe\">\n",
              "  <thead>\n",
              "    <tr style=\"text-align: right;\">\n",
              "      <th></th>\n",
              "      <th>CPI_All</th>\n",
              "    </tr>\n",
              "    <tr>\n",
              "      <th>Date</th>\n",
              "      <th></th>\n",
              "    </tr>\n",
              "  </thead>\n",
              "  <tbody>\n",
              "    <tr>\n",
              "      <th>2021-02-28</th>\n",
              "      <td>263.161</td>\n",
              "    </tr>\n",
              "    <tr>\n",
              "      <th>2021-03-31</th>\n",
              "      <td>264.793</td>\n",
              "    </tr>\n",
              "    <tr>\n",
              "      <th>2021-04-30</th>\n",
              "      <td>266.832</td>\n",
              "    </tr>\n",
              "    <tr>\n",
              "      <th>2021-05-31</th>\n",
              "      <td>268.551</td>\n",
              "    </tr>\n",
              "    <tr>\n",
              "      <th>2021-06-30</th>\n",
              "      <td>270.981</td>\n",
              "    </tr>\n",
              "  </tbody>\n",
              "</table>\n",
              "</div>"
            ],
            "text/plain": [
              "            CPI_All\n",
              "Date               \n",
              "2021-02-28  263.161\n",
              "2021-03-31  264.793\n",
              "2021-04-30  266.832\n",
              "2021-05-31  268.551\n",
              "2021-06-30  270.981"
            ]
          },
          "metadata": {
            "tags": []
          },
          "execution_count": 8
        }
      ]
    },
    {
      "cell_type": "code",
      "metadata": {
        "id": "BDc8d8or_bn-"
      },
      "source": [
        "# Aggregate data into single dataframe\n",
        "fred_data = pd.concat([indpro, CPI], axis=1, join= 'inner')"
      ],
      "execution_count": 9,
      "outputs": []
    },
    {
      "cell_type": "code",
      "metadata": {
        "id": "RZhB8zSd_mjQ"
      },
      "source": [
        "# Set the lag period for lagging the data\n",
        "return_period = 3"
      ],
      "execution_count": 10,
      "outputs": []
    },
    {
      "cell_type": "code",
      "metadata": {
        "id": "Kbv894x9_qI7"
      },
      "source": [
        "# Reframe data into supervised regression-based framework \n",
        "\n",
        "Y = np.log(fred_data.loc[:, ('CPI_All')]).diff(return_period).shift(-return_period)\n",
        "Y.name = Y.name[-1]+'_pred'\n",
        "\n",
        "X = np.log(fred_data.loc[:, ( 'INDPRO')]).diff(return_period)\n",
        "\n",
        "dataset = pd.concat([Y, X], axis=1).dropna().iloc[::return_period, :]\n",
        "Y = dataset.loc[:, Y.name]\n",
        "X = dataset.loc[:, X.name]"
      ],
      "execution_count": 11,
      "outputs": []
    },
    {
      "cell_type": "code",
      "metadata": {
        "id": "ult2PqOi_92z"
      },
      "source": [
        "from sklearn.preprocessing import StandardScaler\n",
        "\n",
        "from sklearn.model_selection import train_test_split\n",
        "from sklearn.model_selection import KFold\n",
        "from sklearn.model_selection import cross_val_score\n",
        "from sklearn.model_selection import GridSearchCV\n",
        "\n",
        "from sklearn.linear_model import LinearRegression\n",
        "from sklearn.linear_model import Lasso\n",
        "from sklearn.linear_model import ElasticNet\n",
        "from sklearn.tree import DecisionTreeRegressor\n",
        "from sklearn.neighbors import KNeighborsRegressor\n",
        "from sklearn.svm import SVR\n",
        "from sklearn.ensemble import RandomForestRegressor\n",
        "from sklearn.ensemble import GradientBoostingRegressor\n",
        "from sklearn.ensemble import ExtraTreesRegressor\n",
        "from sklearn.ensemble import AdaBoostRegressor\n",
        "from sklearn.neural_network import MLPRegressor\n",
        "\n",
        "#Libraries for Deep Learning Models\n",
        "from keras.models import Sequential\n",
        "from keras.layers import Dense\n",
        "from keras.optimizers import SGD\n",
        "from keras.layers import LSTM\n",
        "from keras.wrappers.scikit_learn import KerasRegressor\n",
        "\n",
        "#Libraries for Statistical Models\n",
        "import statsmodels.api as sm\n",
        "\n",
        "#Libraries for Saving the Model\n",
        "from pickle import dump\n",
        "from pickle import load\n",
        "\n",
        "# Error Metrics\n",
        "from sklearn.metrics import mean_squared_error\n",
        "\n",
        "# Feature Selection\n",
        "from sklearn.feature_selection import SelectKBest\n",
        "from sklearn.feature_selection import chi2, f_regression"
      ],
      "execution_count": null,
      "outputs": []
    },
    {
      "cell_type": "code",
      "metadata": {
        "id": "r3JeUUKk__zY"
      },
      "source": [
        "# Split data into training and test sets\n",
        "validation_size = 0.2\n",
        "\n",
        "#In case the data is not dependent on the time series, then train and test split randomly\n",
        "seed = 7\n",
        "X_train, X_test, Y_train, Y_test = train_test_split(X, Y, test_size=validation_size, random_state=seed)\n",
        "\n",
        "#In case the data is not dependent on the time series, then train and test split should be done based on sequential sample\n",
        "#This can be done by selecting an arbitrary split point in the ordered list of observations and creating two new datasets.\n",
        "train_size = int(len(X) * (1-validation_size))\n",
        "X_train, X_test = X[0:train_size], X[train_size:len(X)]\n",
        "Y_train, Y_test = Y[0:train_size], Y[train_size:len(X)]"
      ],
      "execution_count": 13,
      "outputs": []
    },
    {
      "cell_type": "code",
      "metadata": {
        "id": "c5wRdl32ALFl"
      },
      "source": [
        "num_folds = 10\n",
        "seed = 7\n",
        "# scikit is moving away from mean_squared_error. \n",
        "# In order to avoid confusion, and to allow comparison with other models, we invert the final scores\n",
        "scoring = 'neg_mean_squared_error' "
      ],
      "execution_count": 14,
      "outputs": []
    },
    {
      "cell_type": "code",
      "metadata": {
        "id": "N2VoZG39AMgS"
      },
      "source": [
        "# Model selection\n",
        "models = []\n",
        "models.append(('LR', LinearRegression()))\n",
        "models.append(('LASSO', Lasso()))\n",
        "models.append(('EN', ElasticNet()))\n",
        "models.append(('KNN', KNeighborsRegressor()))\n",
        "models.append(('CART', DecisionTreeRegressor()))\n",
        "models.append(('SVR', SVR()))\n",
        "models.append(('MLP', MLPRegressor()))\n",
        "# Boosting methods\n",
        "models.append(('ABR', AdaBoostRegressor()))\n",
        "models.append(('GBR', GradientBoostingRegressor()))\n",
        "# Bagging methods\n",
        "models.append(('RFR', RandomForestRegressor()))\n",
        "models.append(('ETR', ExtraTreesRegressor()))"
      ],
      "execution_count": 15,
      "outputs": []
    },
    {
      "cell_type": "code",
      "metadata": {
        "colab": {
          "base_uri": "https://localhost:8080/",
          "height": 1000
        },
        "id": "fvEC__C8APji",
        "outputId": "84986f9f-9497-4a78-9bb5-e1b2aba99bac"
      },
      "source": [
        "# Loop over the models \n",
        "names = []\n",
        "kfold_results = []\n",
        "test_results = []\n",
        "train_results = []\n",
        "for name, model in models:\n",
        "    names.append(name)\n",
        "   \n",
        "    ## K Fold analysis:\n",
        "    \n",
        "    kfold = KFold(n_splits=num_folds)\n",
        "    #converted mean square error to positive. The lower the beter\n",
        "    cv_results = -1* cross_val_score(model, X_train, Y_train, cv=kfold, scoring=scoring)\n",
        "    kfold_results.append(cv_results)\n",
        "    \n",
        "\n",
        "    # Full Training period\n",
        "    #lr.fit(x.reshape(-1, 1), y)\n",
        "    \n",
        "    res = model.fit(X_train.array.reshape(-1,1), Y_train)\n",
        "    train_result = mean_squared_error(res.predict(X_train), Y_train)\n",
        "    train_results.append(train_result)\n",
        "    \n",
        "    # Test results\n",
        "    test_result = mean_squared_error(res.predict(X_test), Y_test)\n",
        "    test_results.append(test_result)\n",
        "    \n",
        "    msg = \"%s: %f (%f) %f %f\" % (name, cv_results.mean(), cv_results.std(), train_result, test_result)\n",
        "    print(msg)"
      ],
      "execution_count": 19,
      "outputs": [
        {
          "output_type": "stream",
          "text": [
            "/usr/local/lib/python3.7/dist-packages/sklearn/model_selection/_validation.py:536: FitFailedWarning:\n",
            "\n",
            "Estimator fit failed. The score on this train-test partition for these parameters will be set to nan. Details: \n",
            "ValueError: Expected 2D array, got 1D array instead:\n",
            "array=[ 0.01198668 -0.00272389  0.00831039 -0.00813497  0.00613703  0.00584237\n",
            "  0.00897557  0.00604451  0.00683934  0.01099468  0.01377789  0.00774591\n",
            "  0.00184316 -0.00410973  0.01734377  0.00576864  0.00245492  0.00146946\n",
            "  0.00569312  0.01874667 -0.00028309  0.00163451  0.00418703 -0.01382729\n",
            " -0.01294039 -0.05053464 -0.06681205 -0.03028361 -0.00225409  0.02205772\n",
            "  0.01825478  0.01439611  0.01998038  0.00340126  0.00822076  0.00239665\n",
            "  0.00942175  0.01158421  0.01129554  0.00553041  0.00374066 -0.00147736\n",
            "  0.00645886  0.00838211 -0.00073062  0.01002235  0.00121227  0.01779098\n",
            "  0.00991011  0.00139138 -0.00139138 -0.01530399 -0.00101546 -0.01017482\n",
            " -0.00680332 -0.01022909  0.00437664 -0.00231716].\n",
            "Reshape your data either using array.reshape(-1, 1) if your data has a single feature or array.reshape(1, -1) if it contains a single sample.\n",
            "\n",
            "\n",
            "/usr/local/lib/python3.7/dist-packages/sklearn/model_selection/_validation.py:536: FitFailedWarning:\n",
            "\n",
            "Estimator fit failed. The score on this train-test partition for these parameters will be set to nan. Details: \n",
            "ValueError: Expected 2D array, got 1D array instead:\n",
            "array=[-0.00217072 -0.00860123 -0.01236829 -0.01765985 -0.00944681  0.00038464\n",
            "  0.01258198  0.00604451  0.00683934  0.01099468  0.01377789  0.00774591\n",
            "  0.00184316 -0.00410973  0.01734377  0.00576864  0.00245492  0.00146946\n",
            "  0.00569312  0.01874667 -0.00028309  0.00163451  0.00418703 -0.01382729\n",
            " -0.01294039 -0.05053464 -0.06681205 -0.03028361 -0.00225409  0.02205772\n",
            "  0.01825478  0.01439611  0.01998038  0.00340126  0.00822076  0.00239665\n",
            "  0.00942175  0.01158421  0.01129554  0.00553041  0.00374066 -0.00147736\n",
            "  0.00645886  0.00838211 -0.00073062  0.01002235  0.00121227  0.01779098\n",
            "  0.00991011  0.00139138 -0.00139138 -0.01530399 -0.00101546 -0.01017482\n",
            " -0.00680332 -0.01022909  0.00437664 -0.00231716].\n",
            "Reshape your data either using array.reshape(-1, 1) if your data has a single feature or array.reshape(1, -1) if it contains a single sample.\n",
            "\n",
            "\n",
            "/usr/local/lib/python3.7/dist-packages/sklearn/model_selection/_validation.py:536: FitFailedWarning:\n",
            "\n",
            "Estimator fit failed. The score on this train-test partition for these parameters will be set to nan. Details: \n",
            "ValueError: Expected 2D array, got 1D array instead:\n",
            "array=[-0.00217072 -0.00860123 -0.01236829 -0.01765985 -0.00944681  0.00038464\n",
            "  0.01258198  0.01198668 -0.00272389  0.00831039 -0.00813497  0.00613703\n",
            "  0.00584237  0.00897557  0.01734377  0.00576864  0.00245492  0.00146946\n",
            "  0.00569312  0.01874667 -0.00028309  0.00163451  0.00418703 -0.01382729\n",
            " -0.01294039 -0.05053464 -0.06681205 -0.03028361 -0.00225409  0.02205772\n",
            "  0.01825478  0.01439611  0.01998038  0.00340126  0.00822076  0.00239665\n",
            "  0.00942175  0.01158421  0.01129554  0.00553041  0.00374066 -0.00147736\n",
            "  0.00645886  0.00838211 -0.00073062  0.01002235  0.00121227  0.01779098\n",
            "  0.00991011  0.00139138 -0.00139138 -0.01530399 -0.00101546 -0.01017482\n",
            " -0.00680332 -0.01022909  0.00437664 -0.00231716].\n",
            "Reshape your data either using array.reshape(-1, 1) if your data has a single feature or array.reshape(1, -1) if it contains a single sample.\n",
            "\n",
            "\n",
            "/usr/local/lib/python3.7/dist-packages/sklearn/model_selection/_validation.py:536: FitFailedWarning:\n",
            "\n",
            "Estimator fit failed. The score on this train-test partition for these parameters will be set to nan. Details: \n",
            "ValueError: Expected 2D array, got 1D array instead:\n",
            "array=[-0.00217072 -0.00860123 -0.01236829 -0.01765985 -0.00944681  0.00038464\n",
            "  0.01258198  0.01198668 -0.00272389  0.00831039 -0.00813497  0.00613703\n",
            "  0.00584237  0.00897557  0.00604451  0.00683934  0.01099468  0.01377789\n",
            "  0.00774591  0.00184316 -0.00410973  0.00163451  0.00418703 -0.01382729\n",
            " -0.01294039 -0.05053464 -0.06681205 -0.03028361 -0.00225409  0.02205772\n",
            "  0.01825478  0.01439611  0.01998038  0.00340126  0.00822076  0.00239665\n",
            "  0.00942175  0.01158421  0.01129554  0.00553041  0.00374066 -0.00147736\n",
            "  0.00645886  0.00838211 -0.00073062  0.01002235  0.00121227  0.01779098\n",
            "  0.00991011  0.00139138 -0.00139138 -0.01530399 -0.00101546 -0.01017482\n",
            " -0.00680332 -0.01022909  0.00437664 -0.00231716].\n",
            "Reshape your data either using array.reshape(-1, 1) if your data has a single feature or array.reshape(1, -1) if it contains a single sample.\n",
            "\n",
            "\n",
            "/usr/local/lib/python3.7/dist-packages/sklearn/model_selection/_validation.py:536: FitFailedWarning:\n",
            "\n",
            "Estimator fit failed. The score on this train-test partition for these parameters will be set to nan. Details: \n",
            "ValueError: Expected 2D array, got 1D array instead:\n",
            "array=[-0.00217072 -0.00860123 -0.01236829 -0.01765985 -0.00944681  0.00038464\n",
            "  0.01258198  0.01198668 -0.00272389  0.00831039 -0.00813497  0.00613703\n",
            "  0.00584237  0.00897557  0.00604451  0.00683934  0.01099468  0.01377789\n",
            "  0.00774591  0.00184316 -0.00410973  0.01734377  0.00576864  0.00245492\n",
            "  0.00146946  0.00569312  0.01874667 -0.00028309 -0.00225409  0.02205772\n",
            "  0.01825478  0.01439611  0.01998038  0.00340126  0.00822076  0.00239665\n",
            "  0.00942175  0.01158421  0.01129554  0.00553041  0.00374066 -0.00147736\n",
            "  0.00645886  0.00838211 -0.00073062  0.01002235  0.00121227  0.01779098\n",
            "  0.00991011  0.00139138 -0.00139138 -0.01530399 -0.00101546 -0.01017482\n",
            " -0.00680332 -0.01022909  0.00437664 -0.00231716].\n",
            "Reshape your data either using array.reshape(-1, 1) if your data has a single feature or array.reshape(1, -1) if it contains a single sample.\n",
            "\n",
            "\n",
            "/usr/local/lib/python3.7/dist-packages/sklearn/model_selection/_validation.py:536: FitFailedWarning:\n",
            "\n",
            "Estimator fit failed. The score on this train-test partition for these parameters will be set to nan. Details: \n",
            "ValueError: Expected 2D array, got 1D array instead:\n",
            "array=[-0.00217072 -0.00860123 -0.01236829 -0.01765985 -0.00944681  0.00038464\n",
            "  0.01258198  0.01198668 -0.00272389  0.00831039 -0.00813497  0.00613703\n",
            "  0.00584237  0.00897557  0.00604451  0.00683934  0.01099468  0.01377789\n",
            "  0.00774591  0.00184316 -0.00410973  0.01734377  0.00576864  0.00245492\n",
            "  0.00146946  0.00569312  0.01874667 -0.00028309  0.00163451  0.00418703\n",
            " -0.01382729 -0.01294039 -0.05053464 -0.06681205 -0.03028361  0.00822076\n",
            "  0.00239665  0.00942175  0.01158421  0.01129554  0.00553041  0.00374066\n",
            " -0.00147736  0.00645886  0.00838211 -0.00073062  0.01002235  0.00121227\n",
            "  0.01779098  0.00991011  0.00139138 -0.00139138 -0.01530399 -0.00101546\n",
            " -0.01017482 -0.00680332 -0.01022909  0.00437664 -0.00231716].\n",
            "Reshape your data either using array.reshape(-1, 1) if your data has a single feature or array.reshape(1, -1) if it contains a single sample.\n",
            "\n",
            "\n",
            "/usr/local/lib/python3.7/dist-packages/sklearn/model_selection/_validation.py:536: FitFailedWarning:\n",
            "\n",
            "Estimator fit failed. The score on this train-test partition for these parameters will be set to nan. Details: \n",
            "ValueError: Expected 2D array, got 1D array instead:\n",
            "array=[-0.00217072 -0.00860123 -0.01236829 -0.01765985 -0.00944681  0.00038464\n",
            "  0.01258198  0.01198668 -0.00272389  0.00831039 -0.00813497  0.00613703\n",
            "  0.00584237  0.00897557  0.00604451  0.00683934  0.01099468  0.01377789\n",
            "  0.00774591  0.00184316 -0.00410973  0.01734377  0.00576864  0.00245492\n",
            "  0.00146946  0.00569312  0.01874667 -0.00028309  0.00163451  0.00418703\n",
            " -0.01382729 -0.01294039 -0.05053464 -0.06681205 -0.03028361 -0.00225409\n",
            "  0.02205772  0.01825478  0.01439611  0.01998038  0.00340126  0.00374066\n",
            " -0.00147736  0.00645886  0.00838211 -0.00073062  0.01002235  0.00121227\n",
            "  0.01779098  0.00991011  0.00139138 -0.00139138 -0.01530399 -0.00101546\n",
            " -0.01017482 -0.00680332 -0.01022909  0.00437664 -0.00231716].\n",
            "Reshape your data either using array.reshape(-1, 1) if your data has a single feature or array.reshape(1, -1) if it contains a single sample.\n",
            "\n",
            "\n",
            "/usr/local/lib/python3.7/dist-packages/sklearn/model_selection/_validation.py:536: FitFailedWarning:\n",
            "\n",
            "Estimator fit failed. The score on this train-test partition for these parameters will be set to nan. Details: \n",
            "ValueError: Expected 2D array, got 1D array instead:\n",
            "array=[-0.00217072 -0.00860123 -0.01236829 -0.01765985 -0.00944681  0.00038464\n",
            "  0.01258198  0.01198668 -0.00272389  0.00831039 -0.00813497  0.00613703\n",
            "  0.00584237  0.00897557  0.00604451  0.00683934  0.01099468  0.01377789\n",
            "  0.00774591  0.00184316 -0.00410973  0.01734377  0.00576864  0.00245492\n",
            "  0.00146946  0.00569312  0.01874667 -0.00028309  0.00163451  0.00418703\n",
            " -0.01382729 -0.01294039 -0.05053464 -0.06681205 -0.03028361 -0.00225409\n",
            "  0.02205772  0.01825478  0.01439611  0.01998038  0.00340126  0.00822076\n",
            "  0.00239665  0.00942175  0.01158421  0.01129554  0.00553041  0.00121227\n",
            "  0.01779098  0.00991011  0.00139138 -0.00139138 -0.01530399 -0.00101546\n",
            " -0.01017482 -0.00680332 -0.01022909  0.00437664 -0.00231716].\n",
            "Reshape your data either using array.reshape(-1, 1) if your data has a single feature or array.reshape(1, -1) if it contains a single sample.\n",
            "\n",
            "\n",
            "/usr/local/lib/python3.7/dist-packages/sklearn/model_selection/_validation.py:536: FitFailedWarning:\n",
            "\n",
            "Estimator fit failed. The score on this train-test partition for these parameters will be set to nan. Details: \n",
            "ValueError: Expected 2D array, got 1D array instead:\n",
            "array=[-0.00217072 -0.00860123 -0.01236829 -0.01765985 -0.00944681  0.00038464\n",
            "  0.01258198  0.01198668 -0.00272389  0.00831039 -0.00813497  0.00613703\n",
            "  0.00584237  0.00897557  0.00604451  0.00683934  0.01099468  0.01377789\n",
            "  0.00774591  0.00184316 -0.00410973  0.01734377  0.00576864  0.00245492\n",
            "  0.00146946  0.00569312  0.01874667 -0.00028309  0.00163451  0.00418703\n",
            " -0.01382729 -0.01294039 -0.05053464 -0.06681205 -0.03028361 -0.00225409\n",
            "  0.02205772  0.01825478  0.01439611  0.01998038  0.00340126  0.00822076\n",
            "  0.00239665  0.00942175  0.01158421  0.01129554  0.00553041  0.00374066\n",
            " -0.00147736  0.00645886  0.00838211 -0.00073062  0.01002235 -0.00101546\n",
            " -0.01017482 -0.00680332 -0.01022909  0.00437664 -0.00231716].\n",
            "Reshape your data either using array.reshape(-1, 1) if your data has a single feature or array.reshape(1, -1) if it contains a single sample.\n",
            "\n",
            "\n",
            "/usr/local/lib/python3.7/dist-packages/sklearn/model_selection/_validation.py:536: FitFailedWarning:\n",
            "\n",
            "Estimator fit failed. The score on this train-test partition for these parameters will be set to nan. Details: \n",
            "ValueError: Expected 2D array, got 1D array instead:\n",
            "array=[-0.00217072 -0.00860123 -0.01236829 -0.01765985 -0.00944681  0.00038464\n",
            "  0.01258198  0.01198668 -0.00272389  0.00831039 -0.00813497  0.00613703\n",
            "  0.00584237  0.00897557  0.00604451  0.00683934  0.01099468  0.01377789\n",
            "  0.00774591  0.00184316 -0.00410973  0.01734377  0.00576864  0.00245492\n",
            "  0.00146946  0.00569312  0.01874667 -0.00028309  0.00163451  0.00418703\n",
            " -0.01382729 -0.01294039 -0.05053464 -0.06681205 -0.03028361 -0.00225409\n",
            "  0.02205772  0.01825478  0.01439611  0.01998038  0.00340126  0.00822076\n",
            "  0.00239665  0.00942175  0.01158421  0.01129554  0.00553041  0.00374066\n",
            " -0.00147736  0.00645886  0.00838211 -0.00073062  0.01002235  0.00121227\n",
            "  0.01779098  0.00991011  0.00139138 -0.00139138 -0.01530399].\n",
            "Reshape your data either using array.reshape(-1, 1) if your data has a single feature or array.reshape(1, -1) if it contains a single sample.\n",
            "\n",
            "\n"
          ],
          "name": "stderr"
        },
        {
          "output_type": "error",
          "ename": "ValueError",
          "evalue": "ignored",
          "traceback": [
            "\u001b[0;31m---------------------------------------------------------------------------\u001b[0m",
            "\u001b[0;31mValueError\u001b[0m                                Traceback (most recent call last)",
            "\u001b[0;32m<ipython-input-19-c4eb10ce4a07>\u001b[0m in \u001b[0;36m<module>\u001b[0;34m()\u001b[0m\n\u001b[1;32m     18\u001b[0m     \u001b[0;31m#lr.fit(x.reshape(-1, 1), y)\u001b[0m\u001b[0;34m\u001b[0m\u001b[0;34m\u001b[0m\u001b[0;34m\u001b[0m\u001b[0m\n\u001b[1;32m     19\u001b[0m \u001b[0;34m\u001b[0m\u001b[0m\n\u001b[0;32m---> 20\u001b[0;31m     \u001b[0mres\u001b[0m \u001b[0;34m=\u001b[0m \u001b[0mmodel\u001b[0m\u001b[0;34m.\u001b[0m\u001b[0mfit\u001b[0m\u001b[0;34m(\u001b[0m\u001b[0mX_train\u001b[0m\u001b[0;34m.\u001b[0m\u001b[0marray\u001b[0m\u001b[0;34m.\u001b[0m\u001b[0mreshape\u001b[0m\u001b[0;34m(\u001b[0m\u001b[0;34m-\u001b[0m\u001b[0;36m1\u001b[0m\u001b[0;34m,\u001b[0m\u001b[0;36m1\u001b[0m\u001b[0;34m)\u001b[0m\u001b[0;34m,\u001b[0m \u001b[0mY_train\u001b[0m\u001b[0;34m)\u001b[0m\u001b[0;34m\u001b[0m\u001b[0;34m\u001b[0m\u001b[0m\n\u001b[0m\u001b[1;32m     21\u001b[0m     \u001b[0mtrain_result\u001b[0m \u001b[0;34m=\u001b[0m \u001b[0mmean_squared_error\u001b[0m\u001b[0;34m(\u001b[0m\u001b[0mres\u001b[0m\u001b[0;34m.\u001b[0m\u001b[0mpredict\u001b[0m\u001b[0;34m(\u001b[0m\u001b[0mX_train\u001b[0m\u001b[0;34m)\u001b[0m\u001b[0;34m,\u001b[0m \u001b[0mY_train\u001b[0m\u001b[0;34m)\u001b[0m\u001b[0;34m\u001b[0m\u001b[0;34m\u001b[0m\u001b[0m\n\u001b[1;32m     22\u001b[0m     \u001b[0mtrain_results\u001b[0m\u001b[0;34m.\u001b[0m\u001b[0mappend\u001b[0m\u001b[0;34m(\u001b[0m\u001b[0mtrain_result\u001b[0m\u001b[0;34m)\u001b[0m\u001b[0;34m\u001b[0m\u001b[0;34m\u001b[0m\u001b[0m\n",
            "\u001b[0;32m/usr/local/lib/python3.7/dist-packages/pandas/core/arrays/_mixins.py\u001b[0m in \u001b[0;36mreshape\u001b[0;34m(self, *args, **kwargs)\u001b[0m\n\u001b[1;32m     89\u001b[0m     \u001b[0;32mdef\u001b[0m \u001b[0mreshape\u001b[0m\u001b[0;34m(\u001b[0m\u001b[0mself\u001b[0m\u001b[0;34m:\u001b[0m \u001b[0m_T\u001b[0m\u001b[0;34m,\u001b[0m \u001b[0;34m*\u001b[0m\u001b[0margs\u001b[0m\u001b[0;34m,\u001b[0m \u001b[0;34m**\u001b[0m\u001b[0mkwargs\u001b[0m\u001b[0;34m)\u001b[0m \u001b[0;34m->\u001b[0m \u001b[0m_T\u001b[0m\u001b[0;34m:\u001b[0m\u001b[0;34m\u001b[0m\u001b[0;34m\u001b[0m\u001b[0m\n\u001b[1;32m     90\u001b[0m         \u001b[0mnew_data\u001b[0m \u001b[0;34m=\u001b[0m \u001b[0mself\u001b[0m\u001b[0;34m.\u001b[0m\u001b[0m_ndarray\u001b[0m\u001b[0;34m.\u001b[0m\u001b[0mreshape\u001b[0m\u001b[0;34m(\u001b[0m\u001b[0;34m*\u001b[0m\u001b[0margs\u001b[0m\u001b[0;34m,\u001b[0m \u001b[0;34m**\u001b[0m\u001b[0mkwargs\u001b[0m\u001b[0;34m)\u001b[0m\u001b[0;34m\u001b[0m\u001b[0;34m\u001b[0m\u001b[0m\n\u001b[0;32m---> 91\u001b[0;31m         \u001b[0;32mreturn\u001b[0m \u001b[0mself\u001b[0m\u001b[0;34m.\u001b[0m\u001b[0m_from_backing_data\u001b[0m\u001b[0;34m(\u001b[0m\u001b[0mnew_data\u001b[0m\u001b[0;34m)\u001b[0m\u001b[0;34m\u001b[0m\u001b[0;34m\u001b[0m\u001b[0m\n\u001b[0m\u001b[1;32m     92\u001b[0m \u001b[0;34m\u001b[0m\u001b[0m\n\u001b[1;32m     93\u001b[0m     \u001b[0;32mdef\u001b[0m \u001b[0mravel\u001b[0m\u001b[0;34m(\u001b[0m\u001b[0mself\u001b[0m\u001b[0;34m:\u001b[0m \u001b[0m_T\u001b[0m\u001b[0;34m,\u001b[0m \u001b[0;34m*\u001b[0m\u001b[0margs\u001b[0m\u001b[0;34m,\u001b[0m \u001b[0;34m**\u001b[0m\u001b[0mkwargs\u001b[0m\u001b[0;34m)\u001b[0m \u001b[0;34m->\u001b[0m \u001b[0m_T\u001b[0m\u001b[0;34m:\u001b[0m\u001b[0;34m\u001b[0m\u001b[0;34m\u001b[0m\u001b[0m\n",
            "\u001b[0;32m/usr/local/lib/python3.7/dist-packages/pandas/core/arrays/numpy_.py\u001b[0m in \u001b[0;36m_from_backing_data\u001b[0;34m(self, arr)\u001b[0m\n\u001b[1;32m    196\u001b[0m \u001b[0;34m\u001b[0m\u001b[0m\n\u001b[1;32m    197\u001b[0m     \u001b[0;32mdef\u001b[0m \u001b[0m_from_backing_data\u001b[0m\u001b[0;34m(\u001b[0m\u001b[0mself\u001b[0m\u001b[0;34m,\u001b[0m \u001b[0marr\u001b[0m\u001b[0;34m:\u001b[0m \u001b[0mnp\u001b[0m\u001b[0;34m.\u001b[0m\u001b[0mndarray\u001b[0m\u001b[0;34m)\u001b[0m \u001b[0;34m->\u001b[0m \u001b[0;34m\"PandasArray\"\u001b[0m\u001b[0;34m:\u001b[0m\u001b[0;34m\u001b[0m\u001b[0;34m\u001b[0m\u001b[0m\n\u001b[0;32m--> 198\u001b[0;31m         \u001b[0;32mreturn\u001b[0m \u001b[0mtype\u001b[0m\u001b[0;34m(\u001b[0m\u001b[0mself\u001b[0m\u001b[0;34m)\u001b[0m\u001b[0;34m(\u001b[0m\u001b[0marr\u001b[0m\u001b[0;34m)\u001b[0m\u001b[0;34m\u001b[0m\u001b[0;34m\u001b[0m\u001b[0m\n\u001b[0m\u001b[1;32m    199\u001b[0m \u001b[0;34m\u001b[0m\u001b[0m\n\u001b[1;32m    200\u001b[0m     \u001b[0;31m# ------------------------------------------------------------------------\u001b[0m\u001b[0;34m\u001b[0m\u001b[0;34m\u001b[0m\u001b[0;34m\u001b[0m\u001b[0m\n",
            "\u001b[0;32m/usr/local/lib/python3.7/dist-packages/pandas/core/arrays/numpy_.py\u001b[0m in \u001b[0;36m__init__\u001b[0;34m(self, values, copy)\u001b[0m\n\u001b[1;32m    169\u001b[0m \u001b[0;34m\u001b[0m\u001b[0m\n\u001b[1;32m    170\u001b[0m         \u001b[0;32mif\u001b[0m \u001b[0mvalues\u001b[0m\u001b[0;34m.\u001b[0m\u001b[0mndim\u001b[0m \u001b[0;34m!=\u001b[0m \u001b[0;36m1\u001b[0m\u001b[0;34m:\u001b[0m\u001b[0;34m\u001b[0m\u001b[0;34m\u001b[0m\u001b[0m\n\u001b[0;32m--> 171\u001b[0;31m             \u001b[0;32mraise\u001b[0m \u001b[0mValueError\u001b[0m\u001b[0;34m(\u001b[0m\u001b[0;34m\"PandasArray must be 1-dimensional.\"\u001b[0m\u001b[0;34m)\u001b[0m\u001b[0;34m\u001b[0m\u001b[0;34m\u001b[0m\u001b[0m\n\u001b[0m\u001b[1;32m    172\u001b[0m \u001b[0;34m\u001b[0m\u001b[0m\n\u001b[1;32m    173\u001b[0m         \u001b[0;32mif\u001b[0m \u001b[0mcopy\u001b[0m\u001b[0;34m:\u001b[0m\u001b[0;34m\u001b[0m\u001b[0;34m\u001b[0m\u001b[0m\n",
            "\u001b[0;31mValueError\u001b[0m: PandasArray must be 1-dimensional."
          ]
        }
      ]
    }
  ]
}