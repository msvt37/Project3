{
  "nbformat": 4,
  "nbformat_minor": 0,
  "metadata": {
    "colab": {
      "name": "Project3Matt.ipynb",
      "provenance": [],
      "collapsed_sections": []
    },
    "kernelspec": {
      "name": "python3",
      "display_name": "Python 3"
    },
    "language_info": {
      "name": "python"
    }
  },
  "cells": [
    {
      "cell_type": "markdown",
      "metadata": {
        "id": "tuUFc1fB4niu"
      },
      "source": [
        "## Inflation Forecasting with FRED Data\n",
        "\n",
        "The following code attempts to offer tools for forecasting inflation given a set of macro economic input data from FRED.  Data from FRED was selected based on its proximity (known correlation) to inflation."
      ]
    },
    {
      "cell_type": "code",
      "metadata": {
        "id": "9quQCedygzwW"
      },
      "source": [
        "import pandas as pd\n",
        "import numpy as np\n",
        "import datetime as dt\n",
        "import matplotlib.pyplot as plt\n",
        "\n",
        "import plotly.express as px\n",
        "import plotly.graph_objects as go\n",
        "\n"
      ],
      "execution_count": 1,
      "outputs": []
    },
    {
      "cell_type": "code",
      "metadata": {
        "id": "Vy90B9gJhGmE"
      },
      "source": [
        "!pip install yfinance\n",
        "!pip install quandl"
      ],
      "execution_count": null,
      "outputs": []
    },
    {
      "cell_type": "code",
      "metadata": {
        "id": "BvrPJIh7hErx"
      },
      "source": [
        "import yfinance as yf\n",
        "import quandl"
      ],
      "execution_count": 3,
      "outputs": []
    },
    {
      "cell_type": "code",
      "metadata": {
        "id": "tAsOdNfSm2Qj"
      },
      "source": [
        "quandl.ApiConfig.api_key = \"dFWX9cPgKNkz_shZZ2x3\""
      ],
      "execution_count": 4,
      "outputs": []
    },
    {
      "cell_type": "code",
      "metadata": {
        "id": "SKI9VgPCbnYx",
        "colab": {
          "base_uri": "https://localhost:8080/",
          "height": 235
        },
        "outputId": "432aff74-cc05-4fe8-9585-39754fe5a3e4"
      },
      "source": [
        "# Commercial and Industrial Loans\n",
        "candiloans= quandl.get(\"FRED/TOTCI\", start_date='2000-07-01', end_date = '2021-07-01', collapse = 'monthly')\n",
        "candiloans.rename(columns={ \"Value\" : \"CandILoans\"}, inplace = True)\n",
        "candiloans.tail()"
      ],
      "execution_count": 5,
      "outputs": [
        {
          "output_type": "execute_result",
          "data": {
            "text/html": [
              "<div>\n",
              "<style scoped>\n",
              "    .dataframe tbody tr th:only-of-type {\n",
              "        vertical-align: middle;\n",
              "    }\n",
              "\n",
              "    .dataframe tbody tr th {\n",
              "        vertical-align: top;\n",
              "    }\n",
              "\n",
              "    .dataframe thead th {\n",
              "        text-align: right;\n",
              "    }\n",
              "</style>\n",
              "<table border=\"1\" class=\"dataframe\">\n",
              "  <thead>\n",
              "    <tr style=\"text-align: right;\">\n",
              "      <th></th>\n",
              "      <th>CandILoans</th>\n",
              "    </tr>\n",
              "    <tr>\n",
              "      <th>Date</th>\n",
              "      <th></th>\n",
              "    </tr>\n",
              "  </thead>\n",
              "  <tbody>\n",
              "    <tr>\n",
              "      <th>2021-02-28</th>\n",
              "      <td>2600.9517</td>\n",
              "    </tr>\n",
              "    <tr>\n",
              "      <th>2021-03-31</th>\n",
              "      <td>2564.9343</td>\n",
              "    </tr>\n",
              "    <tr>\n",
              "      <th>2021-04-30</th>\n",
              "      <td>2560.2289</td>\n",
              "    </tr>\n",
              "    <tr>\n",
              "      <th>2021-05-31</th>\n",
              "      <td>2546.5231</td>\n",
              "    </tr>\n",
              "    <tr>\n",
              "      <th>2021-06-30</th>\n",
              "      <td>2464.4056</td>\n",
              "    </tr>\n",
              "  </tbody>\n",
              "</table>\n",
              "</div>"
            ],
            "text/plain": [
              "            CandILoans\n",
              "Date                  \n",
              "2021-02-28   2600.9517\n",
              "2021-03-31   2564.9343\n",
              "2021-04-30   2560.2289\n",
              "2021-05-31   2546.5231\n",
              "2021-06-30   2464.4056"
            ]
          },
          "metadata": {
            "tags": []
          },
          "execution_count": 5
        }
      ]
    },
    {
      "cell_type": "code",
      "metadata": {
        "id": "QcP8eAuUdHmF",
        "colab": {
          "base_uri": "https://localhost:8080/",
          "height": 235
        },
        "outputId": "2f1f579d-2826-49a0-c177-a2242377c033"
      },
      "source": [
        "# Unemployment Rate\n",
        "unrate= quandl.get(\"FRED/UNRATE\", start_date='2000-07-01', end_date = '2021-07-01', collapse = 'monthly')\n",
        "unrate.rename(columns={ \"Value\" : \"UnemplRate\"}, inplace = True)\n",
        "unrate.tail()"
      ],
      "execution_count": 7,
      "outputs": [
        {
          "output_type": "execute_result",
          "data": {
            "text/html": [
              "<div>\n",
              "<style scoped>\n",
              "    .dataframe tbody tr th:only-of-type {\n",
              "        vertical-align: middle;\n",
              "    }\n",
              "\n",
              "    .dataframe tbody tr th {\n",
              "        vertical-align: top;\n",
              "    }\n",
              "\n",
              "    .dataframe thead th {\n",
              "        text-align: right;\n",
              "    }\n",
              "</style>\n",
              "<table border=\"1\" class=\"dataframe\">\n",
              "  <thead>\n",
              "    <tr style=\"text-align: right;\">\n",
              "      <th></th>\n",
              "      <th>UnemplRate</th>\n",
              "    </tr>\n",
              "    <tr>\n",
              "      <th>Date</th>\n",
              "      <th></th>\n",
              "    </tr>\n",
              "  </thead>\n",
              "  <tbody>\n",
              "    <tr>\n",
              "      <th>2021-02-28</th>\n",
              "      <td>6.2</td>\n",
              "    </tr>\n",
              "    <tr>\n",
              "      <th>2021-03-31</th>\n",
              "      <td>6.0</td>\n",
              "    </tr>\n",
              "    <tr>\n",
              "      <th>2021-04-30</th>\n",
              "      <td>6.1</td>\n",
              "    </tr>\n",
              "    <tr>\n",
              "      <th>2021-05-31</th>\n",
              "      <td>5.8</td>\n",
              "    </tr>\n",
              "    <tr>\n",
              "      <th>2021-06-30</th>\n",
              "      <td>5.9</td>\n",
              "    </tr>\n",
              "  </tbody>\n",
              "</table>\n",
              "</div>"
            ],
            "text/plain": [
              "            UnemplRate\n",
              "Date                  \n",
              "2021-02-28         6.2\n",
              "2021-03-31         6.0\n",
              "2021-04-30         6.1\n",
              "2021-05-31         5.8\n",
              "2021-06-30         5.9"
            ]
          },
          "metadata": {
            "tags": []
          },
          "execution_count": 7
        }
      ]
    },
    {
      "cell_type": "code",
      "metadata": {
        "id": "glSfvECKeCQ6",
        "colab": {
          "base_uri": "https://localhost:8080/",
          "height": 235
        },
        "outputId": "25fb7529-d077-4a2e-cff1-5f5ded6bc943"
      },
      "source": [
        "# Housing Starts\n",
        "houstart= quandl.get(\"FRED/HOUST\", start_date='2000-07-01', end_date = '2021-07-01', collapse = 'monthly')\n",
        "houstart.rename(columns={ \"Value\" : \"HOUST\"}, inplace = True)\n",
        "houstart.tail()"
      ],
      "execution_count": 8,
      "outputs": [
        {
          "output_type": "execute_result",
          "data": {
            "text/html": [
              "<div>\n",
              "<style scoped>\n",
              "    .dataframe tbody tr th:only-of-type {\n",
              "        vertical-align: middle;\n",
              "    }\n",
              "\n",
              "    .dataframe tbody tr th {\n",
              "        vertical-align: top;\n",
              "    }\n",
              "\n",
              "    .dataframe thead th {\n",
              "        text-align: right;\n",
              "    }\n",
              "</style>\n",
              "<table border=\"1\" class=\"dataframe\">\n",
              "  <thead>\n",
              "    <tr style=\"text-align: right;\">\n",
              "      <th></th>\n",
              "      <th>HOUST</th>\n",
              "    </tr>\n",
              "    <tr>\n",
              "      <th>Date</th>\n",
              "      <th></th>\n",
              "    </tr>\n",
              "  </thead>\n",
              "  <tbody>\n",
              "    <tr>\n",
              "      <th>2021-02-28</th>\n",
              "      <td>1447.0</td>\n",
              "    </tr>\n",
              "    <tr>\n",
              "      <th>2021-03-31</th>\n",
              "      <td>1725.0</td>\n",
              "    </tr>\n",
              "    <tr>\n",
              "      <th>2021-04-30</th>\n",
              "      <td>1514.0</td>\n",
              "    </tr>\n",
              "    <tr>\n",
              "      <th>2021-05-31</th>\n",
              "      <td>1546.0</td>\n",
              "    </tr>\n",
              "    <tr>\n",
              "      <th>2021-06-30</th>\n",
              "      <td>1643.0</td>\n",
              "    </tr>\n",
              "  </tbody>\n",
              "</table>\n",
              "</div>"
            ],
            "text/plain": [
              "             HOUST\n",
              "Date              \n",
              "2021-02-28  1447.0\n",
              "2021-03-31  1725.0\n",
              "2021-04-30  1514.0\n",
              "2021-05-31  1546.0\n",
              "2021-06-30  1643.0"
            ]
          },
          "metadata": {
            "tags": []
          },
          "execution_count": 8
        }
      ]
    },
    {
      "cell_type": "code",
      "metadata": {
        "id": "BGuGKNSQeZOW",
        "colab": {
          "base_uri": "https://localhost:8080/",
          "height": 235
        },
        "outputId": "bf948080-4378-4b08-9eb1-8821ac5976bf"
      },
      "source": [
        "# Industrial Production\n",
        "indpro = quandl.get(\"FRED/INDPRO\", start_date='2000-07-01', end_date = '2021-07-01', collapse = 'monthly')\n",
        "indpro.rename(columns={ \"Value\" : \"INDPRO\"}, inplace = True)\n",
        "indpro.tail()"
      ],
      "execution_count": 9,
      "outputs": [
        {
          "output_type": "execute_result",
          "data": {
            "text/html": [
              "<div>\n",
              "<style scoped>\n",
              "    .dataframe tbody tr th:only-of-type {\n",
              "        vertical-align: middle;\n",
              "    }\n",
              "\n",
              "    .dataframe tbody tr th {\n",
              "        vertical-align: top;\n",
              "    }\n",
              "\n",
              "    .dataframe thead th {\n",
              "        text-align: right;\n",
              "    }\n",
              "</style>\n",
              "<table border=\"1\" class=\"dataframe\">\n",
              "  <thead>\n",
              "    <tr style=\"text-align: right;\">\n",
              "      <th></th>\n",
              "      <th>INDPRO</th>\n",
              "    </tr>\n",
              "    <tr>\n",
              "      <th>Date</th>\n",
              "      <th></th>\n",
              "    </tr>\n",
              "  </thead>\n",
              "  <tbody>\n",
              "    <tr>\n",
              "      <th>2021-02-28</th>\n",
              "      <td>96.3720</td>\n",
              "    </tr>\n",
              "    <tr>\n",
              "      <th>2021-03-31</th>\n",
              "      <td>98.9400</td>\n",
              "    </tr>\n",
              "    <tr>\n",
              "      <th>2021-04-30</th>\n",
              "      <td>98.9660</td>\n",
              "    </tr>\n",
              "    <tr>\n",
              "      <th>2021-05-31</th>\n",
              "      <td>99.6536</td>\n",
              "    </tr>\n",
              "    <tr>\n",
              "      <th>2021-06-30</th>\n",
              "      <td>100.0951</td>\n",
              "    </tr>\n",
              "  </tbody>\n",
              "</table>\n",
              "</div>"
            ],
            "text/plain": [
              "              INDPRO\n",
              "Date                \n",
              "2021-02-28   96.3720\n",
              "2021-03-31   98.9400\n",
              "2021-04-30   98.9660\n",
              "2021-05-31   99.6536\n",
              "2021-06-30  100.0951"
            ]
          },
          "metadata": {
            "tags": []
          },
          "execution_count": 9
        }
      ]
    },
    {
      "cell_type": "code",
      "metadata": {
        "id": "kINR0fo3i_4e",
        "colab": {
          "base_uri": "https://localhost:8080/",
          "height": 235
        },
        "outputId": "764d1a14-dd10-47e6-dfef-bda1a462f7fd"
      },
      "source": [
        "# Personal Savings Rate\n",
        "psave_rt = quandl.get(\"FRED/PSAVERT\", start_date='2000-07-01', end_date = '2021-07-01', collapse = 'monthly')\n",
        "psave_rt.rename(columns={ \"Value\" : \"PSAVERT\"}, inplace = True)\n",
        "psave_rt.tail()"
      ],
      "execution_count": 10,
      "outputs": [
        {
          "output_type": "execute_result",
          "data": {
            "text/html": [
              "<div>\n",
              "<style scoped>\n",
              "    .dataframe tbody tr th:only-of-type {\n",
              "        vertical-align: middle;\n",
              "    }\n",
              "\n",
              "    .dataframe tbody tr th {\n",
              "        vertical-align: top;\n",
              "    }\n",
              "\n",
              "    .dataframe thead th {\n",
              "        text-align: right;\n",
              "    }\n",
              "</style>\n",
              "<table border=\"1\" class=\"dataframe\">\n",
              "  <thead>\n",
              "    <tr style=\"text-align: right;\">\n",
              "      <th></th>\n",
              "      <th>PSAVERT</th>\n",
              "    </tr>\n",
              "    <tr>\n",
              "      <th>Date</th>\n",
              "      <th></th>\n",
              "    </tr>\n",
              "  </thead>\n",
              "  <tbody>\n",
              "    <tr>\n",
              "      <th>2021-01-31</th>\n",
              "      <td>20.7</td>\n",
              "    </tr>\n",
              "    <tr>\n",
              "      <th>2021-02-28</th>\n",
              "      <td>14.8</td>\n",
              "    </tr>\n",
              "    <tr>\n",
              "      <th>2021-03-31</th>\n",
              "      <td>27.6</td>\n",
              "    </tr>\n",
              "    <tr>\n",
              "      <th>2021-04-30</th>\n",
              "      <td>14.5</td>\n",
              "    </tr>\n",
              "    <tr>\n",
              "      <th>2021-05-31</th>\n",
              "      <td>12.4</td>\n",
              "    </tr>\n",
              "  </tbody>\n",
              "</table>\n",
              "</div>"
            ],
            "text/plain": [
              "            PSAVERT\n",
              "Date               \n",
              "2021-01-31     20.7\n",
              "2021-02-28     14.8\n",
              "2021-03-31     27.6\n",
              "2021-04-30     14.5\n",
              "2021-05-31     12.4"
            ]
          },
          "metadata": {
            "tags": []
          },
          "execution_count": 10
        }
      ]
    },
    {
      "cell_type": "code",
      "metadata": {
        "id": "t69Gk_-zjobp",
        "colab": {
          "base_uri": "https://localhost:8080/",
          "height": 235
        },
        "outputId": "c766e825-247a-4c29-bb3a-540128ed6d2b"
      },
      "source": [
        "# CPI for All Urban Consumers\n",
        "CPI = quandl.get(\"FRED/CPIAUCSL\", start_date='2000-07-01', end_date = '2021-07-01', collapse = 'monthly')\n",
        "CPI.rename(columns={ \"Value\" : \"CPI_All\"}, inplace = True)\n",
        "CPI.tail()"
      ],
      "execution_count": 11,
      "outputs": [
        {
          "output_type": "execute_result",
          "data": {
            "text/html": [
              "<div>\n",
              "<style scoped>\n",
              "    .dataframe tbody tr th:only-of-type {\n",
              "        vertical-align: middle;\n",
              "    }\n",
              "\n",
              "    .dataframe tbody tr th {\n",
              "        vertical-align: top;\n",
              "    }\n",
              "\n",
              "    .dataframe thead th {\n",
              "        text-align: right;\n",
              "    }\n",
              "</style>\n",
              "<table border=\"1\" class=\"dataframe\">\n",
              "  <thead>\n",
              "    <tr style=\"text-align: right;\">\n",
              "      <th></th>\n",
              "      <th>CPI_All</th>\n",
              "    </tr>\n",
              "    <tr>\n",
              "      <th>Date</th>\n",
              "      <th></th>\n",
              "    </tr>\n",
              "  </thead>\n",
              "  <tbody>\n",
              "    <tr>\n",
              "      <th>2021-02-28</th>\n",
              "      <td>263.161</td>\n",
              "    </tr>\n",
              "    <tr>\n",
              "      <th>2021-03-31</th>\n",
              "      <td>264.793</td>\n",
              "    </tr>\n",
              "    <tr>\n",
              "      <th>2021-04-30</th>\n",
              "      <td>266.832</td>\n",
              "    </tr>\n",
              "    <tr>\n",
              "      <th>2021-05-31</th>\n",
              "      <td>268.551</td>\n",
              "    </tr>\n",
              "    <tr>\n",
              "      <th>2021-06-30</th>\n",
              "      <td>270.981</td>\n",
              "    </tr>\n",
              "  </tbody>\n",
              "</table>\n",
              "</div>"
            ],
            "text/plain": [
              "            CPI_All\n",
              "Date               \n",
              "2021-02-28  263.161\n",
              "2021-03-31  264.793\n",
              "2021-04-30  266.832\n",
              "2021-05-31  268.551\n",
              "2021-06-30  270.981"
            ]
          },
          "metadata": {
            "tags": []
          },
          "execution_count": 11
        }
      ]
    },
    {
      "cell_type": "code",
      "metadata": {
        "colab": {
          "base_uri": "https://localhost:8080/",
          "height": 235
        },
        "id": "z_g5ZSF75eae",
        "outputId": "0367a968-6daf-4f48-e3b2-e53bbeb6441b"
      },
      "source": [
        "# Ten Year Treasury\n",
        "Ten_YR = quandl.get(\"FRED/DGS10\", start_date='2000-07-01', end_date = '2021-07-01', collapse = 'monthly')\n",
        "Ten_YR.rename(columns={ \"Value\" : \"10YR\"}, inplace = True)\n",
        "Ten_YR.tail()"
      ],
      "execution_count": 13,
      "outputs": [
        {
          "output_type": "execute_result",
          "data": {
            "text/html": [
              "<div>\n",
              "<style scoped>\n",
              "    .dataframe tbody tr th:only-of-type {\n",
              "        vertical-align: middle;\n",
              "    }\n",
              "\n",
              "    .dataframe tbody tr th {\n",
              "        vertical-align: top;\n",
              "    }\n",
              "\n",
              "    .dataframe thead th {\n",
              "        text-align: right;\n",
              "    }\n",
              "</style>\n",
              "<table border=\"1\" class=\"dataframe\">\n",
              "  <thead>\n",
              "    <tr style=\"text-align: right;\">\n",
              "      <th></th>\n",
              "      <th>10YR</th>\n",
              "    </tr>\n",
              "    <tr>\n",
              "      <th>Date</th>\n",
              "      <th></th>\n",
              "    </tr>\n",
              "  </thead>\n",
              "  <tbody>\n",
              "    <tr>\n",
              "      <th>2021-03-31</th>\n",
              "      <td>1.74</td>\n",
              "    </tr>\n",
              "    <tr>\n",
              "      <th>2021-04-30</th>\n",
              "      <td>1.65</td>\n",
              "    </tr>\n",
              "    <tr>\n",
              "      <th>2021-05-31</th>\n",
              "      <td>1.58</td>\n",
              "    </tr>\n",
              "    <tr>\n",
              "      <th>2021-06-30</th>\n",
              "      <td>1.45</td>\n",
              "    </tr>\n",
              "    <tr>\n",
              "      <th>2021-07-31</th>\n",
              "      <td>1.48</td>\n",
              "    </tr>\n",
              "  </tbody>\n",
              "</table>\n",
              "</div>"
            ],
            "text/plain": [
              "            10YR\n",
              "Date            \n",
              "2021-03-31  1.74\n",
              "2021-04-30  1.65\n",
              "2021-05-31  1.58\n",
              "2021-06-30  1.45\n",
              "2021-07-31  1.48"
            ]
          },
          "metadata": {
            "tags": []
          },
          "execution_count": 13
        }
      ]
    },
    {
      "cell_type": "code",
      "metadata": {
        "id": "iR0FoCgTeiTr"
      },
      "source": [
        "# Aggregate data into single dataframe\n",
        "fred_data = pd.concat([candiloans, unrate, houstart, indpro, psave_rt, Ten_YR, CPI], axis=1, join= 'inner')"
      ],
      "execution_count": 14,
      "outputs": []
    },
    {
      "cell_type": "code",
      "metadata": {
        "colab": {
          "base_uri": "https://localhost:8080/",
          "height": 235
        },
        "id": "Xi0rA5kGfqd_",
        "outputId": "a4de373b-e9da-4239-efdc-84c94b13f143"
      },
      "source": [
        "fred_data.tail()"
      ],
      "execution_count": 15,
      "outputs": [
        {
          "output_type": "execute_result",
          "data": {
            "text/html": [
              "<div>\n",
              "<style scoped>\n",
              "    .dataframe tbody tr th:only-of-type {\n",
              "        vertical-align: middle;\n",
              "    }\n",
              "\n",
              "    .dataframe tbody tr th {\n",
              "        vertical-align: top;\n",
              "    }\n",
              "\n",
              "    .dataframe thead th {\n",
              "        text-align: right;\n",
              "    }\n",
              "</style>\n",
              "<table border=\"1\" class=\"dataframe\">\n",
              "  <thead>\n",
              "    <tr style=\"text-align: right;\">\n",
              "      <th></th>\n",
              "      <th>CandILoans</th>\n",
              "      <th>UnemplRate</th>\n",
              "      <th>HOUST</th>\n",
              "      <th>INDPRO</th>\n",
              "      <th>PSAVERT</th>\n",
              "      <th>10YR</th>\n",
              "      <th>CPI_All</th>\n",
              "    </tr>\n",
              "    <tr>\n",
              "      <th>Date</th>\n",
              "      <th></th>\n",
              "      <th></th>\n",
              "      <th></th>\n",
              "      <th></th>\n",
              "      <th></th>\n",
              "      <th></th>\n",
              "      <th></th>\n",
              "    </tr>\n",
              "  </thead>\n",
              "  <tbody>\n",
              "    <tr>\n",
              "      <th>2021-01-31</th>\n",
              "      <td>2565.4135</td>\n",
              "      <td>6.3</td>\n",
              "      <td>1625.0</td>\n",
              "      <td>99.4076</td>\n",
              "      <td>20.7</td>\n",
              "      <td>1.11</td>\n",
              "      <td>262.231</td>\n",
              "    </tr>\n",
              "    <tr>\n",
              "      <th>2021-02-28</th>\n",
              "      <td>2600.9517</td>\n",
              "      <td>6.2</td>\n",
              "      <td>1447.0</td>\n",
              "      <td>96.3720</td>\n",
              "      <td>14.8</td>\n",
              "      <td>1.44</td>\n",
              "      <td>263.161</td>\n",
              "    </tr>\n",
              "    <tr>\n",
              "      <th>2021-03-31</th>\n",
              "      <td>2564.9343</td>\n",
              "      <td>6.0</td>\n",
              "      <td>1725.0</td>\n",
              "      <td>98.9400</td>\n",
              "      <td>27.6</td>\n",
              "      <td>1.74</td>\n",
              "      <td>264.793</td>\n",
              "    </tr>\n",
              "    <tr>\n",
              "      <th>2021-04-30</th>\n",
              "      <td>2560.2289</td>\n",
              "      <td>6.1</td>\n",
              "      <td>1514.0</td>\n",
              "      <td>98.9660</td>\n",
              "      <td>14.5</td>\n",
              "      <td>1.65</td>\n",
              "      <td>266.832</td>\n",
              "    </tr>\n",
              "    <tr>\n",
              "      <th>2021-05-31</th>\n",
              "      <td>2546.5231</td>\n",
              "      <td>5.8</td>\n",
              "      <td>1546.0</td>\n",
              "      <td>99.6536</td>\n",
              "      <td>12.4</td>\n",
              "      <td>1.58</td>\n",
              "      <td>268.551</td>\n",
              "    </tr>\n",
              "  </tbody>\n",
              "</table>\n",
              "</div>"
            ],
            "text/plain": [
              "            CandILoans  UnemplRate   HOUST   INDPRO  PSAVERT  10YR  CPI_All\n",
              "Date                                                                       \n",
              "2021-01-31   2565.4135         6.3  1625.0  99.4076     20.7  1.11  262.231\n",
              "2021-02-28   2600.9517         6.2  1447.0  96.3720     14.8  1.44  263.161\n",
              "2021-03-31   2564.9343         6.0  1725.0  98.9400     27.6  1.74  264.793\n",
              "2021-04-30   2560.2289         6.1  1514.0  98.9660     14.5  1.65  266.832\n",
              "2021-05-31   2546.5231         5.8  1546.0  99.6536     12.4  1.58  268.551"
            ]
          },
          "metadata": {
            "tags": []
          },
          "execution_count": 15
        }
      ]
    },
    {
      "cell_type": "code",
      "metadata": {
        "id": "wp0W9ZT26Z5c"
      },
      "source": [
        "%matplotlib inline\n",
        "import seaborn as sns\n",
        "import matplotlib.pyplot as plt\n"
      ],
      "execution_count": 16,
      "outputs": []
    },
    {
      "cell_type": "code",
      "metadata": {
        "id": "IUNRjNyCNnH4"
      },
      "source": [
        "# Set the lag period for lagging the data\n",
        "return_period = 3"
      ],
      "execution_count": 17,
      "outputs": []
    },
    {
      "cell_type": "code",
      "metadata": {
        "id": "FfW5XWdFKy6I"
      },
      "source": [
        "# Reframe data into supervised regression-based framework \n",
        "\n",
        "Y = np.log(fred_data.loc[:, ('CPI_All')]).diff(return_period).shift(-return_period)\n",
        "Y.name = Y.name[-1]+'_pred'\n",
        "\n",
        "X = np.log(fred_data.loc[:, ('CandILoans', 'UnemplRate', 'HOUST', 'INDPRO', 'PSAVERT', '10YR')]).diff(return_period)\n",
        "\n",
        "dataset = pd.concat([Y, X], axis=1).dropna().iloc[::return_period, :]\n",
        "Y = dataset.loc[:, Y.name]\n",
        "X = dataset.loc[:, X.columns]"
      ],
      "execution_count": 18,
      "outputs": []
    },
    {
      "cell_type": "code",
      "metadata": {
        "id": "RpBJFB1E9Uee"
      },
      "source": [
        "from sklearn.preprocessing import StandardScaler\n",
        "\n",
        "from sklearn.model_selection import train_test_split\n",
        "from sklearn.model_selection import KFold\n",
        "from sklearn.model_selection import cross_val_score\n",
        "from sklearn.model_selection import GridSearchCV\n",
        "\n",
        "from sklearn.linear_model import LinearRegression\n",
        "from sklearn.linear_model import Lasso\n",
        "from sklearn.linear_model import ElasticNet\n",
        "from sklearn.tree import DecisionTreeRegressor\n",
        "from sklearn.neighbors import KNeighborsRegressor\n",
        "from sklearn.svm import SVR\n",
        "from sklearn.ensemble import RandomForestRegressor\n",
        "from sklearn.ensemble import GradientBoostingRegressor\n",
        "from sklearn.ensemble import ExtraTreesRegressor\n",
        "from sklearn.ensemble import AdaBoostRegressor\n",
        "from sklearn.neural_network import MLPRegressor\n",
        "\n",
        "#Libraries for Deep Learning Models\n",
        "from keras.models import Sequential\n",
        "from keras.layers import Dense\n",
        "from keras.optimizers import SGD\n",
        "from keras.layers import LSTM\n",
        "from keras.wrappers.scikit_learn import KerasRegressor\n",
        "\n",
        "#Libraries for Statistical Models\n",
        "import statsmodels.api as sm\n",
        "\n",
        "#Libraries for Saving the Model\n",
        "from pickle import dump\n",
        "from pickle import load\n",
        "\n",
        "# Error Metrics\n",
        "from sklearn.metrics import mean_squared_error\n",
        "\n",
        "# Feature Selection\n",
        "from sklearn.feature_selection import SelectKBest\n",
        "from sklearn.feature_selection import chi2, f_regression"
      ],
      "execution_count": 76,
      "outputs": []
    },
    {
      "cell_type": "code",
      "metadata": {
        "id": "H69vm7UHZrN4"
      },
      "source": [
        "from matplotlib import pyplot\n",
        "from pandas.plotting import scatter_matrix\n",
        "import seaborn as sns"
      ],
      "execution_count": 20,
      "outputs": []
    },
    {
      "cell_type": "code",
      "metadata": {
        "colab": {
          "base_uri": "https://localhost:8080/",
          "height": 867
        },
        "id": "S46tBVjt-Y61",
        "outputId": "817ddd35-de59-4d5a-bf80-80d68ad71ea4"
      },
      "source": [
        "# Produces a correlation matrix for examining relationship between dependent and independent variables\n",
        "correlation = fred_data.corr()\n",
        "pyplot.figure(figsize=(15,15))\n",
        "pyplot.title('Correlation Matrix for FRED Data')\n",
        "sns.heatmap(correlation, vmax=1, square=True,annot=True,cmap='cubehelix')"
      ],
      "execution_count": 78,
      "outputs": [
        {
          "output_type": "execute_result",
          "data": {
            "text/plain": [
              "<matplotlib.axes._subplots.AxesSubplot at 0x7f57cb8f3d50>"
            ]
          },
          "metadata": {
            "tags": []
          },
          "execution_count": 78
        },
        {
          "output_type": "display_data",
          "data": {
            "image/png": "[encoded data removed]",
            "text/plain": [
              "<Figure size 1080x1080 with 2 Axes>"
            ]
          },
          "metadata": {
            "tags": [],
            "needs_background": "light"
          }
        }
      ]
    },
    {
      "cell_type": "markdown",
      "metadata": {
        "id": "RKmR7nv17fuD"
      },
      "source": [
        "# Correlation Matrix Results\n",
        "We see a very strong correlation between CPI and Commercial and Industrial Loans (This may be worth exploring separately)."
      ]
    },
    {
      "cell_type": "code",
      "metadata": {
        "colab": {
          "base_uri": "https://localhost:8080/",
          "height": 266
        },
        "id": "teR3YZfq-ZEU",
        "outputId": "9a709442-8064-4a66-e40a-05e230148bcf"
      },
      "source": [
        "# Sklearn to find feature importance \n",
        "bestfeatures = SelectKBest(k='all', score_func=f_regression)\n",
        "fit = bestfeatures.fit(X,Y)\n",
        "dfscores = pd.DataFrame(fit.scores_)\n",
        "dfcolumns = pd.DataFrame(X.columns)\n",
        "#concat two dataframes for better visualization \n",
        "featureScores = pd.concat([dfcolumns,dfscores],axis=1)\n",
        "featureScores.columns = ['Specs','Score']  #naming the dataframe columns\n",
        "featureScores.nlargest(10,'Score').set_index('Specs')  #print 10 best features"
      ],
      "execution_count": 81,
      "outputs": [
        {
          "output_type": "execute_result",
          "data": {
            "text/html": [
              "<div>\n",
              "<style scoped>\n",
              "    .dataframe tbody tr th:only-of-type {\n",
              "        vertical-align: middle;\n",
              "    }\n",
              "\n",
              "    .dataframe tbody tr th {\n",
              "        vertical-align: top;\n",
              "    }\n",
              "\n",
              "    .dataframe thead th {\n",
              "        text-align: right;\n",
              "    }\n",
              "</style>\n",
              "<table border=\"1\" class=\"dataframe\">\n",
              "  <thead>\n",
              "    <tr style=\"text-align: right;\">\n",
              "      <th></th>\n",
              "      <th>Score</th>\n",
              "    </tr>\n",
              "    <tr>\n",
              "      <th>Specs</th>\n",
              "      <th></th>\n",
              "    </tr>\n",
              "  </thead>\n",
              "  <tbody>\n",
              "    <tr>\n",
              "      <th>INDPRO</th>\n",
              "      <td>0.828223</td>\n",
              "    </tr>\n",
              "    <tr>\n",
              "      <th>HOUST</th>\n",
              "      <td>0.098586</td>\n",
              "    </tr>\n",
              "    <tr>\n",
              "      <th>PSAVERT</th>\n",
              "      <td>0.063507</td>\n",
              "    </tr>\n",
              "    <tr>\n",
              "      <th>CandILoans</th>\n",
              "      <td>0.043115</td>\n",
              "    </tr>\n",
              "    <tr>\n",
              "      <th>UnemplRate</th>\n",
              "      <td>0.003327</td>\n",
              "    </tr>\n",
              "    <tr>\n",
              "      <th>10YR</th>\n",
              "      <td>0.002698</td>\n",
              "    </tr>\n",
              "  </tbody>\n",
              "</table>\n",
              "</div>"
            ],
            "text/plain": [
              "               Score\n",
              "Specs               \n",
              "INDPRO      0.828223\n",
              "HOUST       0.098586\n",
              "PSAVERT     0.063507\n",
              "CandILoans  0.043115\n",
              "UnemplRate  0.003327\n",
              "10YR        0.002698"
            ]
          },
          "metadata": {
            "tags": []
          },
          "execution_count": 81
        }
      ]
    },
    {
      "cell_type": "code",
      "metadata": {
        "id": "oIK3wHQ_-ZNy"
      },
      "source": [
        "# Split data into training and test sets\n",
        "validation_size = 0.2\n",
        "\n",
        "#In case the data is not dependent on the time series, then train and test split randomly\n",
        "seed = 7\n",
        "X_train, X_test, Y_train, Y_test = train_test_split(X, Y, test_size=validation_size, random_state=seed)\n",
        "\n",
        "#In case the data is not dependent on the time series, then train and test split should be done based on sequential sample\n",
        "#This can be done by selecting an arbitrary split point in the ordered list of observations and creating two new datasets.\n",
        "train_size = int(len(X) * (1-validation_size))\n",
        "X_train, X_test = X[0:train_size], X[train_size:len(X)]\n",
        "Y_train, Y_test = Y[0:train_size], Y[train_size:len(X)]"
      ],
      "execution_count": 82,
      "outputs": []
    },
    {
      "cell_type": "code",
      "metadata": {
        "id": "WoQgBH3S-ZRl"
      },
      "source": [
        "num_folds = 10\n",
        "seed = 7\n",
        "# scikit is moving away from mean_squared_error. \n",
        "# In order to avoid confusion, and to allow comparison with other models, we invert the final scores\n",
        "scoring = 'neg_mean_squared_error' "
      ],
      "execution_count": 24,
      "outputs": []
    },
    {
      "cell_type": "code",
      "metadata": {
        "id": "FhkR2cjwB1_N"
      },
      "source": [
        "# Model selection\n",
        "models = []\n",
        "models.append(('LR', LinearRegression()))\n",
        "models.append(('LASSO', Lasso()))\n",
        "models.append(('EN', ElasticNet()))\n",
        "models.append(('KNN', KNeighborsRegressor()))\n",
        "models.append(('CART', DecisionTreeRegressor()))\n",
        "models.append(('SVR', SVR()))\n",
        "models.append(('MLP', MLPRegressor()))\n",
        "# Boosting methods\n",
        "models.append(('ABR', AdaBoostRegressor()))\n",
        "models.append(('GBR', GradientBoostingRegressor()))\n",
        "# Bagging methods\n",
        "models.append(('RFR', RandomForestRegressor()))\n",
        "models.append(('ETR', ExtraTreesRegressor()))"
      ],
      "execution_count": 25,
      "outputs": []
    },
    {
      "cell_type": "code",
      "metadata": {
        "colab": {
          "base_uri": "https://localhost:8080/"
        },
        "id": "R1A-zliXB2T-",
        "outputId": "6d9475c9-3505-45a5-a4fe-631d1fc07d38"
      },
      "source": [
        "# Loop over the models \n",
        "names = []\n",
        "kfold_results = []\n",
        "test_results = []\n",
        "train_results = []\n",
        "for name, model in models:\n",
        "    names.append(name)\n",
        "    \n",
        "    ## K Fold analysis:\n",
        "    \n",
        "    kfold = KFold(n_splits=num_folds)\n",
        "    #converted mean square error to positive. The lower the beter\n",
        "    cv_results = -1* cross_val_score(model, X_train, Y_train, cv=kfold, scoring=scoring)\n",
        "    kfold_results.append(cv_results)\n",
        "    \n",
        "\n",
        "    # Full Training period\n",
        "    res = model.fit(X_train, Y_train)\n",
        "    train_result = mean_squared_error(res.predict(X_train), Y_train)\n",
        "    train_results.append(train_result)\n",
        "    \n",
        "    # Test results\n",
        "    test_result = mean_squared_error(res.predict(X_test), Y_test)\n",
        "    test_results.append(test_result)\n",
        "    \n",
        "    msg = \"%s: %f (%f) %f %f\" % (name, cv_results.mean(), cv_results.std(), train_result, test_result)\n",
        "    print(msg)"
      ],
      "execution_count": 29,
      "outputs": [
        {
          "output_type": "stream",
          "text": [
            "LR: 0.000050 (0.000051) 0.000039 0.000186\n",
            "LASSO: 0.000043 (0.000059) 0.000044 0.000033\n",
            "EN: 0.000043 (0.000059) 0.000044 0.000033\n",
            "KNN: 0.000058 (0.000062) 0.000034 0.000042\n",
            "CART: 0.000092 (0.000081) 0.000000 0.000050\n",
            "SVR: 0.000068 (0.000053) 0.000072 0.000062\n",
            "MLP: 0.000415 (0.000507) 0.000561 0.002439\n",
            "ABR: 0.000054 (0.000057) 0.000010 0.000097\n",
            "GBR: 0.000063 (0.000055) 0.000001 0.000044\n",
            "RFR: 0.000055 (0.000052) 0.000008 0.000080\n",
            "ETR: 0.000058 (0.000058) 0.000000 0.000070\n"
          ],
          "name": "stdout"
        }
      ]
    },
    {
      "cell_type": "markdown",
      "metadata": {
        "id": "TeM_rMwYo1s-"
      },
      "source": [
        "It appears that LASSO and Elastic Net models perform the best when looking at the test results (last value)."
      ]
    },
    {
      "cell_type": "code",
      "metadata": {
        "colab": {
          "base_uri": "https://localhost:8080/",
          "height": 540
        },
        "id": "pqzwkeB4B2Y3",
        "outputId": "9a0ae6a7-0a3e-45b6-ad63-0e5becaa30d9"
      },
      "source": [
        "# K fold results\n",
        "# Better performing models have a stonger relationship between dependent and independent variable\n",
        "fig = pyplot.figure()\n",
        "fig.suptitle('Algorithm Comparison: Kfold results')\n",
        "ax = fig.add_subplot(111)\n",
        "pyplot.boxplot(kfold_results)\n",
        "ax.set_xticklabels(names)\n",
        "fig.set_size_inches(15,8)\n",
        "pyplot.show()"
      ],
      "execution_count": 30,
      "outputs": [
        {
          "output_type": "display_data",
          "data": {
            "image/png": "[encoded data removed]",
            "text/plain": [
              "<Figure size 1080x576 with 1 Axes>"
            ]
          },
          "metadata": {
            "tags": [],
            "needs_background": "light"
          }
        }
      ]
    },
    {
      "cell_type": "code",
      "metadata": {
        "colab": {
          "base_uri": "https://localhost:8080/",
          "height": 540
        },
        "id": "KCCvA81FB2dr",
        "outputId": "bf48204c-63ea-4a52-c144-91e1506b9430"
      },
      "source": [
        "# Training and test error\n",
        "# compare algorithms\n",
        "fig = pyplot.figure()\n",
        "\n",
        "ind = np.arange(len(names))  # the x locations for the groups\n",
        "width = 0.35  # the width of the bars\n",
        "\n",
        "fig.suptitle('Algorithm Comparison')\n",
        "ax = fig.add_subplot(111)\n",
        "pyplot.bar(ind - width/2, train_results,  width=width, label='Train Error')\n",
        "pyplot.bar(ind + width/2, test_results, width=width, label='Test Error')\n",
        "fig.set_size_inches(15,8)\n",
        "pyplot.legend()\n",
        "ax.set_xticks(ind)\n",
        "ax.set_xticklabels(names)\n",
        "pyplot.show()"
      ],
      "execution_count": 31,
      "outputs": [
        {
          "output_type": "display_data",
          "data": {
            "image/png": "[encoded data removed]",
            "text/plain": [
              "<Figure size 1080x576 with 1 Axes>"
            ]
          },
          "metadata": {
            "tags": [],
            "needs_background": "light"
          }
        }
      ]
    },
    {
      "cell_type": "code",
      "metadata": {
        "colab": {
          "base_uri": "https://localhost:8080/"
        },
        "id": "yq7Pbwk7yncM",
        "outputId": "b84ef282-4d61-40d4-dad6-b6ee4b3a6fed"
      },
      "source": [
        "# Elastic Net \n",
        "model_elast = ElasticNet()\n",
        "model_elast.fit(X_train, Y_train)"
      ],
      "execution_count": 51,
      "outputs": [
        {
          "output_type": "execute_result",
          "data": {
            "text/plain": [
              "ElasticNet(alpha=1.0, copy_X=True, fit_intercept=True, l1_ratio=0.5,\n",
              "           max_iter=1000, normalize=False, positive=False, precompute=False,\n",
              "           random_state=None, selection='cyclic', tol=0.0001, warm_start=False)"
            ]
          },
          "metadata": {
            "tags": []
          },
          "execution_count": 51
        }
      ]
    },
    {
      "cell_type": "code",
      "metadata": {
        "id": "-XG-X5hMzjTm"
      },
      "source": [
        "elast_pred = model_elast.predict(X_test)\n",
        "elast_results = pd.DataFrame({\"Predictions\": elast_pred, \"Actual\": Y_test})"
      ],
      "execution_count": 52,
      "outputs": []
    },
    {
      "cell_type": "code",
      "metadata": {
        "colab": {
          "base_uri": "https://localhost:8080/",
          "height": 296
        },
        "id": "XGniUqJt0RdK",
        "outputId": "6486ca55-bd0f-4211-ceaf-99a813e15d74"
      },
      "source": [
        "elast_results.plot()"
      ],
      "execution_count": 53,
      "outputs": [
        {
          "output_type": "execute_result",
          "data": {
            "text/plain": [
              "<matplotlib.axes._subplots.AxesSubplot at 0x7f57d06986d0>"
            ]
          },
          "metadata": {
            "tags": []
          },
          "execution_count": 53
        },
        {
          "output_type": "display_data",
          "data": {
            "image/png": "[encoded data removed]",
            "text/plain": [
              "<Figure size 432x288 with 1 Axes>"
            ]
          },
          "metadata": {
            "tags": [],
            "needs_background": "light"
          }
        }
      ]
    },
    {
      "cell_type": "code",
      "metadata": {
        "colab": {
          "base_uri": "https://localhost:8080/"
        },
        "id": "PFdmSuCk035J",
        "outputId": "abf703fc-cbc4-4caa-e2f6-9a85741fcdac"
      },
      "source": [
        "# KNN\n",
        "model_knn = KNeighborsRegressor()\n",
        "model_knn.fit(X_train, Y_train)"
      ],
      "execution_count": 57,
      "outputs": [
        {
          "output_type": "execute_result",
          "data": {
            "text/plain": [
              "KNeighborsRegressor(algorithm='auto', leaf_size=30, metric='minkowski',\n",
              "                    metric_params=None, n_jobs=None, n_neighbors=5, p=2,\n",
              "                    weights='uniform')"
            ]
          },
          "metadata": {
            "tags": []
          },
          "execution_count": 57
        }
      ]
    },
    {
      "cell_type": "code",
      "metadata": {
        "id": "BPp2uPVw1aBu"
      },
      "source": [
        "knn_pred = model_knn.predict(X_test)\n",
        "knn_results = pd.DataFrame({\"Predictions\": knn_pred, \"Actual\": Y_test})"
      ],
      "execution_count": 58,
      "outputs": []
    },
    {
      "cell_type": "code",
      "metadata": {
        "colab": {
          "base_uri": "https://localhost:8080/",
          "height": 296
        },
        "id": "8OA5SBgz2GIL",
        "outputId": "f5830cf4-3548-45ed-97b0-c81d6e252d8d"
      },
      "source": [
        "knn_results.plot()"
      ],
      "execution_count": 59,
      "outputs": [
        {
          "output_type": "execute_result",
          "data": {
            "text/plain": [
              "<matplotlib.axes._subplots.AxesSubplot at 0x7f57d05f9a90>"
            ]
          },
          "metadata": {
            "tags": []
          },
          "execution_count": 59
        },
        {
          "output_type": "display_data",
          "data": {
            "image/png": "[encoded data removed]",
            "text/plain": [
              "<Figure size 432x288 with 1 Axes>"
            ]
          },
          "metadata": {
            "tags": [],
            "needs_background": "light"
          }
        }
      ]
    },
    {
      "cell_type": "code",
      "metadata": {
        "colab": {
          "base_uri": "https://localhost:8080/"
        },
        "id": "s53UlhSV9wF_",
        "outputId": "2a9b7308-6489-464a-8d26-880efe4ac785"
      },
      "source": [
        "# Model tuning for GBR\n",
        "modelGBR= GradientBoostingRegressor()\n",
        "modelGBR.fit(X_train, Y_train)\n",
        "\n"
      ],
      "execution_count": 32,
      "outputs": [
        {
          "output_type": "execute_result",
          "data": {
            "text/plain": [
              "GradientBoostingRegressor(alpha=0.9, ccp_alpha=0.0, criterion='friedman_mse',\n",
              "                          init=None, learning_rate=0.1, loss='ls', max_depth=3,\n",
              "                          max_features=None, max_leaf_nodes=None,\n",
              "                          min_impurity_decrease=0.0, min_impurity_split=None,\n",
              "                          min_samples_leaf=1, min_samples_split=2,\n",
              "                          min_weight_fraction_leaf=0.0, n_estimators=100,\n",
              "                          n_iter_no_change=None, presort='deprecated',\n",
              "                          random_state=None, subsample=1.0, tol=0.0001,\n",
              "                          validation_fraction=0.1, verbose=0, warm_start=False)"
            ]
          },
          "metadata": {
            "tags": []
          },
          "execution_count": 32
        }
      ]
    },
    {
      "cell_type": "code",
      "metadata": {
        "id": "vPBc1iuBFQcY"
      },
      "source": [
        "GBR_pred = modelGBR.predict(X_test)\n",
        "GBR_results = pd.DataFrame({\"Predictions\": GBR_pred, \"Actual\": Y_test})\n"
      ],
      "execution_count": 33,
      "outputs": []
    },
    {
      "cell_type": "code",
      "metadata": {
        "id": "sFxtjlwSLHE-"
      },
      "source": [
        "# Used for looking at next few periods (Future)\n",
        "future = np.log(fred_data.tail(1))\n",
        "future.drop(['CPI_All'], axis = 1, inplace=True)\n"
      ],
      "execution_count": 40,
      "outputs": []
    },
    {
      "cell_type": "code",
      "metadata": {
        "colab": {
          "base_uri": "https://localhost:8080/"
        },
        "id": "KG6F7d0gbiUh",
        "outputId": "d2e6fdd4-db11-441b-8487-eab3367c318c"
      },
      "source": [
        "GBR_future = modelGBR.predict(future)\n",
        "np.exp(GBR_future)"
      ],
      "execution_count": 41,
      "outputs": [
        {
          "output_type": "execute_result",
          "data": {
            "text/plain": [
              "array([0.99395756])"
            ]
          },
          "metadata": {
            "tags": []
          },
          "execution_count": 41
        }
      ]
    },
    {
      "cell_type": "code",
      "metadata": {
        "colab": {
          "base_uri": "https://localhost:8080/",
          "height": 296
        },
        "id": "7RSLRUbrJ8gy",
        "outputId": "758e6278-a41c-4935-e908-eb1a211f54d0"
      },
      "source": [
        "GBR_results.plot()"
      ],
      "execution_count": 42,
      "outputs": [
        {
          "output_type": "execute_result",
          "data": {
            "text/plain": [
              "<matplotlib.axes._subplots.AxesSubplot at 0x7f57d09c7850>"
            ]
          },
          "metadata": {
            "tags": []
          },
          "execution_count": 42
        },
        {
          "output_type": "display_data",
          "data": {
            "image/png": "[encoded data removed]",
            "text/plain": [
              "<Figure size 432x288 with 1 Axes>"
            ]
          },
          "metadata": {
            "tags": [],
            "needs_background": "light"
          }
        }
      ]
    },
    {
      "cell_type": "markdown",
      "metadata": {
        "id": "MUiq2tGsyCz9"
      },
      "source": [
        "# **GBR Results **\n",
        "It appears there is a divergence with what the model is prediction at tail end of the dataset.  "
      ]
    },
    {
      "cell_type": "markdown",
      "metadata": {
        "id": "1HCIqTXz2mCn"
      },
      "source": [
        "## LSTM Model"
      ]
    },
    {
      "cell_type": "code",
      "metadata": {
        "id": "vDpzUqmt2g2o"
      },
      "source": [
        "seq_len = 2 #Length of the seq for the LSTM\n",
        "\n",
        "Y_train_LSTM, Y_test_LSTM = np.array(Y_train)[seq_len-1:], np.array(Y_test)\n",
        "X_train_LSTM = np.zeros((X_train.shape[0]+1-seq_len, seq_len, X_train.shape[1]))\n",
        "X_test_LSTM = np.zeros((X_test.shape[0], seq_len, X.shape[1]))\n",
        "for i in range(seq_len):\n",
        "    X_train_LSTM[:, i, :] = np.array(X_train)[i:X_train.shape[0]+i+1-seq_len, :]\n",
        "    X_test_LSTM[:, i, :] = np.array(X)[X_train.shape[0]+i-1:X.shape[0]+i+1-seq_len, :]"
      ],
      "execution_count": 66,
      "outputs": []
    },
    {
      "cell_type": "code",
      "metadata": {
        "colab": {
          "base_uri": "https://localhost:8080/"
        },
        "id": "DObUUDY62smd",
        "outputId": "be18ada8-b5d5-4097-aa86-b16214915d0c"
      },
      "source": [
        "# Lstm Network\n",
        "def create_LSTMmodel(neurons=12, learn_rate = 0.01, momentum=0):\n",
        "        # create model\n",
        "    model = Sequential()\n",
        "    model.add(LSTM(50, input_shape=(X_train_LSTM.shape[1], X_train_LSTM.shape[2])))\n",
        "    #More number of cells can be added if needed \n",
        "    model.add(Dense(1))\n",
        "    optimizer = SGD(lr=learn_rate, momentum=momentum)\n",
        "    model.compile(loss='mse', optimizer='adam')\n",
        "    return model\n",
        "LSTMModel = create_LSTMmodel(12, learn_rate = 0.01, momentum=0)\n",
        "LSTMModel_fit = LSTMModel.fit(X_train_LSTM, Y_train_LSTM, validation_data=(X_test_LSTM, Y_test_LSTM),epochs=330, batch_size=72, verbose=0, shuffle=False)"
      ],
      "execution_count": 67,
      "outputs": [
        {
          "output_type": "stream",
          "text": [
            "/usr/local/lib/python3.7/dist-packages/tensorflow/python/keras/optimizer_v2/optimizer_v2.py:375: UserWarning:\n",
            "\n",
            "The `lr` argument is deprecated, use `learning_rate` instead.\n",
            "\n"
          ],
          "name": "stderr"
        }
      ]
    },
    {
      "cell_type": "code",
      "metadata": {
        "colab": {
          "base_uri": "https://localhost:8080/",
          "height": 265
        },
        "id": "aiUhv--U201D",
        "outputId": "3003f62b-d400-4d12-c46a-2b377af60081"
      },
      "source": [
        "#Visual plot to check if the error is reducing\n",
        "pyplot.plot(LSTMModel_fit.history['loss'], label='train')\n",
        "pyplot.plot(LSTMModel_fit.history['val_loss'], label='test')\n",
        "pyplot.legend()\n",
        "pyplot.show()\n"
      ],
      "execution_count": 68,
      "outputs": [
        {
          "output_type": "display_data",
          "data": {
            "image/png": "[encoded data removed]",
            "text/plain": [
              "<Figure size 432x288 with 1 Axes>"
            ]
          },
          "metadata": {
            "tags": [],
            "needs_background": "light"
          }
        }
      ]
    },
    {
      "cell_type": "code",
      "metadata": {
        "id": "LjhG4N0w3AtK"
      },
      "source": [
        "error_Training_LSTM = mean_squared_error(Y_train_LSTM, LSTMModel.predict(X_train_LSTM))\n",
        "lstm_pred = LSTMModel.predict(X_test_LSTM)\n",
        "error_Test_LSTM = mean_squared_error(Y_test,lstm_pred)"
      ],
      "execution_count": 69,
      "outputs": []
    },
    {
      "cell_type": "code",
      "metadata": {
        "id": "jaRD8r743QxL"
      },
      "source": [
        "lstm_results = pd.DataFrame({\"Predictions\": lstm_pred.ravel(), \"Actual\": Y_test})"
      ],
      "execution_count": 74,
      "outputs": []
    },
    {
      "cell_type": "code",
      "metadata": {
        "colab": {
          "base_uri": "https://localhost:8080/",
          "height": 296
        },
        "id": "8Q0oPLrL3-0B",
        "outputId": "9c0de2f4-6606-4e96-f84d-c35769de1405"
      },
      "source": [
        "lstm_results.plot()"
      ],
      "execution_count": 75,
      "outputs": [
        {
          "output_type": "execute_result",
          "data": {
            "text/plain": [
              "<matplotlib.axes._subplots.AxesSubplot at 0x7f57cacf9b10>"
            ]
          },
          "metadata": {
            "tags": []
          },
          "execution_count": 75
        },
        {
          "output_type": "display_data",
          "data": {
            "image/png": "[encoded data removed]",
            "text/plain": [
              "<Figure size 432x288 with 1 Axes>"
            ]
          },
          "metadata": {
            "tags": [],
            "needs_background": "light"
          }
        }
      ]
    }
  ]
}